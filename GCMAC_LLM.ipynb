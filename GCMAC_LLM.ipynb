{
  "nbformat": 4,
  "nbformat_minor": 0,
  "metadata": {
    "colab": {
      "provenance": []
    },
    "kernelspec": {
      "name": "python3",
      "display_name": "Python 3"
    },
    "language_info": {
      "name": "python"
    }
  },
  "cells": [
    {
      "cell_type": "markdown",
      "metadata": {
        "id": "c7603612"
      },
      "source": [
        "# From Guessing to Grounded: Comparing a Base LLM with RAG\n",
        "\n",
        "In this notebook, you’ll explore how adding a retrieval step can transform an AI model’s answers.\n",
        "\n",
        "You will:\n",
        "1. Ask a lightweight, open-source LLM a question with no extra context (the **base** approach).\n",
        "2. Give the same model access to a small local knowledge base using **Retrieval-Augmented Generation (RAG)**.\n",
        "3. Compare how each approach performs — side-by-side — on the same query.\n",
        "\n",
        "By the end, you’ll see how even a small, fast model can deliver more accurate and relevant results when grounded in the right information.\n"
      ]
    },
    {
      "cell_type": "markdown",
      "metadata": {
        "id": "f3006854"
      },
      "source": [
        "## Environment setup\n",
        "\n",
        "### Subtask:\n",
        "Install necessary libraries like `transformers`, `torch`, `faiss-cpu`, and `datasets`.\n"
      ]
    },
    {
      "cell_type": "markdown",
      "metadata": {
        "id": "4332fb7a"
      },
      "source": [
        "**Reasoning**:\n",
        "Install the required libraries using pip in a code cell.\n",
        "\n"
      ]
    },
    {
      "cell_type": "code",
      "metadata": {
        "colab": {
          "base_uri": "https://localhost:8080/"
        },
        "id": "1a344d91",
        "outputId": "dc01a55b-9eb9-4b04-90e8-3b8453cf9508"
      },
      "source": [
        "!pip install transformers torch faiss-cpu datasets"
      ],
      "execution_count": 1,
      "outputs": [
        {
          "output_type": "stream",
          "name": "stdout",
          "text": [
            "Requirement already satisfied: transformers in /usr/local/lib/python3.11/dist-packages (4.55.0)\n",
            "Requirement already satisfied: torch in /usr/local/lib/python3.11/dist-packages (2.6.0+cu124)\n",
            "Collecting faiss-cpu\n",
            "  Downloading faiss_cpu-1.12.0-cp311-cp311-manylinux_2_27_x86_64.manylinux_2_28_x86_64.whl.metadata (5.1 kB)\n",
            "Requirement already satisfied: datasets in /usr/local/lib/python3.11/dist-packages (4.0.0)\n",
            "Requirement already satisfied: filelock in /usr/local/lib/python3.11/dist-packages (from transformers) (3.18.0)\n",
            "Requirement already satisfied: huggingface-hub<1.0,>=0.34.0 in /usr/local/lib/python3.11/dist-packages (from transformers) (0.34.4)\n",
            "Requirement already satisfied: numpy>=1.17 in /usr/local/lib/python3.11/dist-packages (from transformers) (2.0.2)\n",
            "Requirement already satisfied: packaging>=20.0 in /usr/local/lib/python3.11/dist-packages (from transformers) (25.0)\n",
            "Requirement already satisfied: pyyaml>=5.1 in /usr/local/lib/python3.11/dist-packages (from transformers) (6.0.2)\n",
            "Requirement already satisfied: regex!=2019.12.17 in /usr/local/lib/python3.11/dist-packages (from transformers) (2024.11.6)\n",
            "Requirement already satisfied: requests in /usr/local/lib/python3.11/dist-packages (from transformers) (2.32.3)\n",
            "Requirement already satisfied: tokenizers<0.22,>=0.21 in /usr/local/lib/python3.11/dist-packages (from transformers) (0.21.4)\n",
            "Requirement already satisfied: safetensors>=0.4.3 in /usr/local/lib/python3.11/dist-packages (from transformers) (0.6.2)\n",
            "Requirement already satisfied: tqdm>=4.27 in /usr/local/lib/python3.11/dist-packages (from transformers) (4.67.1)\n",
            "Requirement already satisfied: typing-extensions>=4.10.0 in /usr/local/lib/python3.11/dist-packages (from torch) (4.14.1)\n",
            "Requirement already satisfied: networkx in /usr/local/lib/python3.11/dist-packages (from torch) (3.5)\n",
            "Requirement already satisfied: jinja2 in /usr/local/lib/python3.11/dist-packages (from torch) (3.1.6)\n",
            "Requirement already satisfied: fsspec in /usr/local/lib/python3.11/dist-packages (from torch) (2025.3.0)\n",
            "Collecting nvidia-cuda-nvrtc-cu12==12.4.127 (from torch)\n",
            "  Downloading nvidia_cuda_nvrtc_cu12-12.4.127-py3-none-manylinux2014_x86_64.whl.metadata (1.5 kB)\n",
            "Collecting nvidia-cuda-runtime-cu12==12.4.127 (from torch)\n",
            "  Downloading nvidia_cuda_runtime_cu12-12.4.127-py3-none-manylinux2014_x86_64.whl.metadata (1.5 kB)\n",
            "Collecting nvidia-cuda-cupti-cu12==12.4.127 (from torch)\n",
            "  Downloading nvidia_cuda_cupti_cu12-12.4.127-py3-none-manylinux2014_x86_64.whl.metadata (1.6 kB)\n",
            "Collecting nvidia-cudnn-cu12==9.1.0.70 (from torch)\n",
            "  Downloading nvidia_cudnn_cu12-9.1.0.70-py3-none-manylinux2014_x86_64.whl.metadata (1.6 kB)\n",
            "Collecting nvidia-cublas-cu12==12.4.5.8 (from torch)\n",
            "  Downloading nvidia_cublas_cu12-12.4.5.8-py3-none-manylinux2014_x86_64.whl.metadata (1.5 kB)\n",
            "Collecting nvidia-cufft-cu12==11.2.1.3 (from torch)\n",
            "  Downloading nvidia_cufft_cu12-11.2.1.3-py3-none-manylinux2014_x86_64.whl.metadata (1.5 kB)\n",
            "Collecting nvidia-curand-cu12==10.3.5.147 (from torch)\n",
            "  Downloading nvidia_curand_cu12-10.3.5.147-py3-none-manylinux2014_x86_64.whl.metadata (1.5 kB)\n",
            "Collecting nvidia-cusolver-cu12==11.6.1.9 (from torch)\n",
            "  Downloading nvidia_cusolver_cu12-11.6.1.9-py3-none-manylinux2014_x86_64.whl.metadata (1.6 kB)\n",
            "Collecting nvidia-cusparse-cu12==12.3.1.170 (from torch)\n",
            "  Downloading nvidia_cusparse_cu12-12.3.1.170-py3-none-manylinux2014_x86_64.whl.metadata (1.6 kB)\n",
            "Requirement already satisfied: nvidia-cusparselt-cu12==0.6.2 in /usr/local/lib/python3.11/dist-packages (from torch) (0.6.2)\n",
            "Collecting nvidia-nccl-cu12==2.21.5 (from torch)\n",
            "  Downloading nvidia_nccl_cu12-2.21.5-py3-none-manylinux2014_x86_64.whl.metadata (1.8 kB)\n",
            "Requirement already satisfied: nvidia-nvtx-cu12==12.4.127 in /usr/local/lib/python3.11/dist-packages (from torch) (12.4.127)\n",
            "Collecting nvidia-nvjitlink-cu12==12.4.127 (from torch)\n",
            "  Downloading nvidia_nvjitlink_cu12-12.4.127-py3-none-manylinux2014_x86_64.whl.metadata (1.5 kB)\n",
            "Requirement already satisfied: triton==3.2.0 in /usr/local/lib/python3.11/dist-packages (from torch) (3.2.0)\n",
            "Requirement already satisfied: sympy==1.13.1 in /usr/local/lib/python3.11/dist-packages (from torch) (1.13.1)\n",
            "Requirement already satisfied: mpmath<1.4,>=1.1.0 in /usr/local/lib/python3.11/dist-packages (from sympy==1.13.1->torch) (1.3.0)\n",
            "Requirement already satisfied: pyarrow>=15.0.0 in /usr/local/lib/python3.11/dist-packages (from datasets) (18.1.0)\n",
            "Requirement already satisfied: dill<0.3.9,>=0.3.0 in /usr/local/lib/python3.11/dist-packages (from datasets) (0.3.8)\n",
            "Requirement already satisfied: pandas in /usr/local/lib/python3.11/dist-packages (from datasets) (2.2.2)\n",
            "Requirement already satisfied: xxhash in /usr/local/lib/python3.11/dist-packages (from datasets) (3.5.0)\n",
            "Requirement already satisfied: multiprocess<0.70.17 in /usr/local/lib/python3.11/dist-packages (from datasets) (0.70.16)\n",
            "Requirement already satisfied: aiohttp!=4.0.0a0,!=4.0.0a1 in /usr/local/lib/python3.11/dist-packages (from fsspec[http]<=2025.3.0,>=2023.1.0->datasets) (3.12.15)\n",
            "Requirement already satisfied: hf-xet<2.0.0,>=1.1.3 in /usr/local/lib/python3.11/dist-packages (from huggingface-hub<1.0,>=0.34.0->transformers) (1.1.7)\n",
            "Requirement already satisfied: charset-normalizer<4,>=2 in /usr/local/lib/python3.11/dist-packages (from requests->transformers) (3.4.3)\n",
            "Requirement already satisfied: idna<4,>=2.5 in /usr/local/lib/python3.11/dist-packages (from requests->transformers) (3.10)\n",
            "Requirement already satisfied: urllib3<3,>=1.21.1 in /usr/local/lib/python3.11/dist-packages (from requests->transformers) (2.5.0)\n",
            "Requirement already satisfied: certifi>=2017.4.17 in /usr/local/lib/python3.11/dist-packages (from requests->transformers) (2025.8.3)\n",
            "Requirement already satisfied: MarkupSafe>=2.0 in /usr/local/lib/python3.11/dist-packages (from jinja2->torch) (3.0.2)\n",
            "Requirement already satisfied: python-dateutil>=2.8.2 in /usr/local/lib/python3.11/dist-packages (from pandas->datasets) (2.9.0.post0)\n",
            "Requirement already satisfied: pytz>=2020.1 in /usr/local/lib/python3.11/dist-packages (from pandas->datasets) (2025.2)\n",
            "Requirement already satisfied: tzdata>=2022.7 in /usr/local/lib/python3.11/dist-packages (from pandas->datasets) (2025.2)\n",
            "Requirement already satisfied: aiohappyeyeballs>=2.5.0 in /usr/local/lib/python3.11/dist-packages (from aiohttp!=4.0.0a0,!=4.0.0a1->fsspec[http]<=2025.3.0,>=2023.1.0->datasets) (2.6.1)\n",
            "Requirement already satisfied: aiosignal>=1.4.0 in /usr/local/lib/python3.11/dist-packages (from aiohttp!=4.0.0a0,!=4.0.0a1->fsspec[http]<=2025.3.0,>=2023.1.0->datasets) (1.4.0)\n",
            "Requirement already satisfied: attrs>=17.3.0 in /usr/local/lib/python3.11/dist-packages (from aiohttp!=4.0.0a0,!=4.0.0a1->fsspec[http]<=2025.3.0,>=2023.1.0->datasets) (25.3.0)\n",
            "Requirement already satisfied: frozenlist>=1.1.1 in /usr/local/lib/python3.11/dist-packages (from aiohttp!=4.0.0a0,!=4.0.0a1->fsspec[http]<=2025.3.0,>=2023.1.0->datasets) (1.7.0)\n",
            "Requirement already satisfied: multidict<7.0,>=4.5 in /usr/local/lib/python3.11/dist-packages (from aiohttp!=4.0.0a0,!=4.0.0a1->fsspec[http]<=2025.3.0,>=2023.1.0->datasets) (6.6.4)\n",
            "Requirement already satisfied: propcache>=0.2.0 in /usr/local/lib/python3.11/dist-packages (from aiohttp!=4.0.0a0,!=4.0.0a1->fsspec[http]<=2025.3.0,>=2023.1.0->datasets) (0.3.2)\n",
            "Requirement already satisfied: yarl<2.0,>=1.17.0 in /usr/local/lib/python3.11/dist-packages (from aiohttp!=4.0.0a0,!=4.0.0a1->fsspec[http]<=2025.3.0,>=2023.1.0->datasets) (1.20.1)\n",
            "Requirement already satisfied: six>=1.5 in /usr/local/lib/python3.11/dist-packages (from python-dateutil>=2.8.2->pandas->datasets) (1.17.0)\n",
            "Downloading nvidia_cublas_cu12-12.4.5.8-py3-none-manylinux2014_x86_64.whl (363.4 MB)\n",
            "\u001b[2K   \u001b[90m━━━━━━━━━━━━━━━━━━━━━━━━━━━━━━━━━━━━━━━━\u001b[0m \u001b[32m363.4/363.4 MB\u001b[0m \u001b[31m4.3 MB/s\u001b[0m eta \u001b[36m0:00:00\u001b[0m\n",
            "\u001b[?25hDownloading nvidia_cuda_cupti_cu12-12.4.127-py3-none-manylinux2014_x86_64.whl (13.8 MB)\n",
            "\u001b[2K   \u001b[90m━━━━━━━━━━━━━━━━━━━━━━━━━━━━━━━━━━━━━━━━\u001b[0m \u001b[32m13.8/13.8 MB\u001b[0m \u001b[31m92.8 MB/s\u001b[0m eta \u001b[36m0:00:00\u001b[0m\n",
            "\u001b[?25hDownloading nvidia_cuda_nvrtc_cu12-12.4.127-py3-none-manylinux2014_x86_64.whl (24.6 MB)\n",
            "\u001b[2K   \u001b[90m━━━━━━━━━━━━━━━━━━━━━━━━━━━━━━━━━━━━━━━━\u001b[0m \u001b[32m24.6/24.6 MB\u001b[0m \u001b[31m61.3 MB/s\u001b[0m eta \u001b[36m0:00:00\u001b[0m\n",
            "\u001b[?25hDownloading nvidia_cuda_runtime_cu12-12.4.127-py3-none-manylinux2014_x86_64.whl (883 kB)\n",
            "\u001b[2K   \u001b[90m━━━━━━━━━━━━━━━━━━━━━━━━━━━━━━━━━━━━━━━━\u001b[0m \u001b[32m883.7/883.7 kB\u001b[0m \u001b[31m43.0 MB/s\u001b[0m eta \u001b[36m0:00:00\u001b[0m\n",
            "\u001b[?25hDownloading nvidia_cudnn_cu12-9.1.0.70-py3-none-manylinux2014_x86_64.whl (664.8 MB)\n",
            "\u001b[2K   \u001b[90m━━━━━━━━━━━━━━━━━━━━━━━━━━━━━━━━━━━━━━━━\u001b[0m \u001b[32m664.8/664.8 MB\u001b[0m \u001b[31m2.6 MB/s\u001b[0m eta \u001b[36m0:00:00\u001b[0m\n",
            "\u001b[?25hDownloading nvidia_cufft_cu12-11.2.1.3-py3-none-manylinux2014_x86_64.whl (211.5 MB)\n",
            "\u001b[2K   \u001b[90m━━━━━━━━━━━━━━━━━━━━━━━━━━━━━━━━━━━━━━━━\u001b[0m \u001b[32m211.5/211.5 MB\u001b[0m \u001b[31m6.6 MB/s\u001b[0m eta \u001b[36m0:00:00\u001b[0m\n",
            "\u001b[?25hDownloading nvidia_curand_cu12-10.3.5.147-py3-none-manylinux2014_x86_64.whl (56.3 MB)\n",
            "\u001b[2K   \u001b[90m━━━━━━━━━━━━━━━━━━━━━━━━━━━━━━━━━━━━━━━━\u001b[0m \u001b[32m56.3/56.3 MB\u001b[0m \u001b[31m13.1 MB/s\u001b[0m eta \u001b[36m0:00:00\u001b[0m\n",
            "\u001b[?25hDownloading nvidia_cusolver_cu12-11.6.1.9-py3-none-manylinux2014_x86_64.whl (127.9 MB)\n",
            "\u001b[2K   \u001b[90m━━━━━━━━━━━━━━━━━━━━━━━━━━━━━━━━━━━━━━━━\u001b[0m \u001b[32m127.9/127.9 MB\u001b[0m \u001b[31m7.4 MB/s\u001b[0m eta \u001b[36m0:00:00\u001b[0m\n",
            "\u001b[?25hDownloading nvidia_cusparse_cu12-12.3.1.170-py3-none-manylinux2014_x86_64.whl (207.5 MB)\n",
            "\u001b[2K   \u001b[90m━━━━━━━━━━━━━━━━━━━━━━━━━━━━━━━━━━━━━━━━\u001b[0m \u001b[32m207.5/207.5 MB\u001b[0m \u001b[31m5.6 MB/s\u001b[0m eta \u001b[36m0:00:00\u001b[0m\n",
            "\u001b[?25hDownloading nvidia_nccl_cu12-2.21.5-py3-none-manylinux2014_x86_64.whl (188.7 MB)\n",
            "\u001b[2K   \u001b[90m━━━━━━━━━━━━━━━━━━━━━━━━━━━━━━━━━━━━━━━━\u001b[0m \u001b[32m188.7/188.7 MB\u001b[0m \u001b[31m6.1 MB/s\u001b[0m eta \u001b[36m0:00:00\u001b[0m\n",
            "\u001b[?25hDownloading nvidia_nvjitlink_cu12-12.4.127-py3-none-manylinux2014_x86_64.whl (21.1 MB)\n",
            "\u001b[2K   \u001b[90m━━━━━━━━━━━━━━━━━━━━━━━━━━━━━━━━━━━━━━━━\u001b[0m \u001b[32m21.1/21.1 MB\u001b[0m \u001b[31m62.7 MB/s\u001b[0m eta \u001b[36m0:00:00\u001b[0m\n",
            "\u001b[?25hDownloading faiss_cpu-1.12.0-cp311-cp311-manylinux_2_27_x86_64.manylinux_2_28_x86_64.whl (31.4 MB)\n",
            "\u001b[2K   \u001b[90m━━━━━━━━━━━━━━━━━━━━━━━━━━━━━━━━━━━━━━━━\u001b[0m \u001b[32m31.4/31.4 MB\u001b[0m \u001b[31m49.2 MB/s\u001b[0m eta \u001b[36m0:00:00\u001b[0m\n",
            "\u001b[?25hInstalling collected packages: nvidia-nvjitlink-cu12, nvidia-nccl-cu12, nvidia-curand-cu12, nvidia-cufft-cu12, nvidia-cuda-runtime-cu12, nvidia-cuda-nvrtc-cu12, nvidia-cuda-cupti-cu12, nvidia-cublas-cu12, faiss-cpu, nvidia-cusparse-cu12, nvidia-cudnn-cu12, nvidia-cusolver-cu12\n",
            "  Attempting uninstall: nvidia-nvjitlink-cu12\n",
            "    Found existing installation: nvidia-nvjitlink-cu12 12.5.82\n",
            "    Uninstalling nvidia-nvjitlink-cu12-12.5.82:\n",
            "      Successfully uninstalled nvidia-nvjitlink-cu12-12.5.82\n",
            "  Attempting uninstall: nvidia-nccl-cu12\n",
            "    Found existing installation: nvidia-nccl-cu12 2.23.4\n",
            "    Uninstalling nvidia-nccl-cu12-2.23.4:\n",
            "      Successfully uninstalled nvidia-nccl-cu12-2.23.4\n",
            "  Attempting uninstall: nvidia-curand-cu12\n",
            "    Found existing installation: nvidia-curand-cu12 10.3.6.82\n",
            "    Uninstalling nvidia-curand-cu12-10.3.6.82:\n",
            "      Successfully uninstalled nvidia-curand-cu12-10.3.6.82\n",
            "  Attempting uninstall: nvidia-cufft-cu12\n",
            "    Found existing installation: nvidia-cufft-cu12 11.2.3.61\n",
            "    Uninstalling nvidia-cufft-cu12-11.2.3.61:\n",
            "      Successfully uninstalled nvidia-cufft-cu12-11.2.3.61\n",
            "  Attempting uninstall: nvidia-cuda-runtime-cu12\n",
            "    Found existing installation: nvidia-cuda-runtime-cu12 12.5.82\n",
            "    Uninstalling nvidia-cuda-runtime-cu12-12.5.82:\n",
            "      Successfully uninstalled nvidia-cuda-runtime-cu12-12.5.82\n",
            "  Attempting uninstall: nvidia-cuda-nvrtc-cu12\n",
            "    Found existing installation: nvidia-cuda-nvrtc-cu12 12.5.82\n",
            "    Uninstalling nvidia-cuda-nvrtc-cu12-12.5.82:\n",
            "      Successfully uninstalled nvidia-cuda-nvrtc-cu12-12.5.82\n",
            "  Attempting uninstall: nvidia-cuda-cupti-cu12\n",
            "    Found existing installation: nvidia-cuda-cupti-cu12 12.5.82\n",
            "    Uninstalling nvidia-cuda-cupti-cu12-12.5.82:\n",
            "      Successfully uninstalled nvidia-cuda-cupti-cu12-12.5.82\n",
            "  Attempting uninstall: nvidia-cublas-cu12\n",
            "    Found existing installation: nvidia-cublas-cu12 12.5.3.2\n",
            "    Uninstalling nvidia-cublas-cu12-12.5.3.2:\n",
            "      Successfully uninstalled nvidia-cublas-cu12-12.5.3.2\n",
            "  Attempting uninstall: nvidia-cusparse-cu12\n",
            "    Found existing installation: nvidia-cusparse-cu12 12.5.1.3\n",
            "    Uninstalling nvidia-cusparse-cu12-12.5.1.3:\n",
            "      Successfully uninstalled nvidia-cusparse-cu12-12.5.1.3\n",
            "  Attempting uninstall: nvidia-cudnn-cu12\n",
            "    Found existing installation: nvidia-cudnn-cu12 9.3.0.75\n",
            "    Uninstalling nvidia-cudnn-cu12-9.3.0.75:\n",
            "      Successfully uninstalled nvidia-cudnn-cu12-9.3.0.75\n",
            "  Attempting uninstall: nvidia-cusolver-cu12\n",
            "    Found existing installation: nvidia-cusolver-cu12 11.6.3.83\n",
            "    Uninstalling nvidia-cusolver-cu12-11.6.3.83:\n",
            "      Successfully uninstalled nvidia-cusolver-cu12-11.6.3.83\n",
            "Successfully installed faiss-cpu-1.12.0 nvidia-cublas-cu12-12.4.5.8 nvidia-cuda-cupti-cu12-12.4.127 nvidia-cuda-nvrtc-cu12-12.4.127 nvidia-cuda-runtime-cu12-12.4.127 nvidia-cudnn-cu12-9.1.0.70 nvidia-cufft-cu12-11.2.1.3 nvidia-curand-cu12-10.3.5.147 nvidia-cusolver-cu12-11.6.1.9 nvidia-cusparse-cu12-12.3.1.170 nvidia-nccl-cu12-2.21.5 nvidia-nvjitlink-cu12-12.4.127\n"
          ]
        }
      ]
    },
    {
      "cell_type": "markdown",
      "metadata": {
        "id": "9cda7700"
      },
      "source": [
        "## Load base llm\n",
        "\n",
        "### Subtask:\n",
        "Load a lightweight open-source LLM from Hugging Face.\n"
      ]
    },
    {
      "cell_type": "markdown",
      "metadata": {
        "id": "99625ad6"
      },
      "source": [
        "**Reasoning**:\n",
        "Import the necessary classes and load a lightweight LLM and its tokenizer from Hugging Face.\n",
        "\n"
      ]
    },
    {
      "cell_type": "code",
      "source": [
        "from transformers import AutoTokenizer, AutoModelForCausalLM\n",
        "import torch\n",
        "\n",
        "# Keep a small causal model as requested\n",
        "model_name = \"gpt2\"  # or \"distilgpt2\" if you prefer; both are non-instruction-tuned causal LMs\n",
        "\n",
        "tokenizer = AutoTokenizer.from_pretrained(model_name)\n",
        "model = AutoModelForCausalLM.from_pretrained(model_name)\n",
        "model.eval()\n",
        "for p in model.parameters():\n",
        "    p.requires_grad_(False)\n",
        "\n",
        "# Ensure we have a pad token (causal models often don't)\n",
        "if tokenizer.pad_token is None:\n",
        "    tokenizer.add_special_tokens({\"pad_token\": tokenizer.eos_token})\n",
        "    model.resize_token_embeddings(len(tokenizer))\n",
        "\n",
        "device = torch.device(\"cuda\" if torch.cuda.is_available() else \"cpu\")\n",
        "model.to(device)\n",
        "\n",
        "print(f\"Model '{model_name}' loaded on {device}. pad_token_id={tokenizer.pad_token_id}\")\n"
      ],
      "metadata": {
        "colab": {
          "base_uri": "https://localhost:8080/"
        },
        "id": "wFmT5eRHVEMv",
        "outputId": "05f2f582-a5aa-4e1f-e550-3dc873771d53"
      },
      "execution_count": 29,
      "outputs": [
        {
          "output_type": "stream",
          "name": "stdout",
          "text": [
            "Model 'gpt2' loaded on cpu. pad_token_id=50256\n"
          ]
        }
      ]
    },
    {
      "cell_type": "markdown",
      "metadata": {
        "id": "1ec2897b"
      },
      "source": [
        "## Create knowledge base\n",
        "\n",
        "### Subtask:\n",
        "Define a small local knowledge base as a list of strings on a chosen topic.\n"
      ]
    },
    {
      "cell_type": "markdown",
      "metadata": {
        "id": "e60d3fb9"
      },
      "source": [
        "**Reasoning**:\n",
        "Define and print the knowledge base as a list of strings according to the instructions.\n",
        "\n"
      ]
    },
    {
      "cell_type": "code",
      "metadata": {
        "colab": {
          "base_uri": "https://localhost:8080/"
        },
        "id": "88e0f479",
        "outputId": "9b897ed1-c297-4521-d821-a461cc7c998b"
      },
      "source": [
        "# Crystalline vs. Amorphous Materials (keep only relevant facts)\n",
        "knowledge_base = [\n",
        "    \"Crystalline materials have a long-range ordered atomic lattice.\",\n",
        "    \"Amorphous materials lack long-range order; atoms are arranged randomly.\",\n",
        "    \"Crystalline materials typically have sharp, well-defined melting points.\",\n",
        "    \"Amorphous materials soften gradually over a range of temperatures.\",\n",
        "    \"Examples of crystalline materials include many metals, salts, and ice.\",\n",
        "    \"Examples of amorphous materials include glass, rubber, and many plastics.\"\n",
        "]\n",
        "\n",
        "print(\"Knowledge Base on Crystalline vs. Amorphous Materials:\")\n",
        "for i, line in enumerate(knowledge_base, 1):\n",
        "    print(f\"[{i}] {line}\")"
      ],
      "execution_count": 43,
      "outputs": [
        {
          "output_type": "stream",
          "name": "stdout",
          "text": [
            "Knowledge Base on Crystalline vs. Amorphous Materials:\n",
            "[1] Crystalline materials have a long-range ordered atomic lattice.\n",
            "[2] Amorphous materials lack long-range order; atoms are arranged randomly.\n",
            "[3] Crystalline materials typically have sharp, well-defined melting points.\n",
            "[4] Amorphous materials soften gradually over a range of temperatures.\n",
            "[5] Examples of crystalline materials include many metals, salts, and ice.\n",
            "[6] Examples of amorphous materials include glass, rubber, and many plastics.\n"
          ]
        }
      ]
    },
    {
      "cell_type": "markdown",
      "metadata": {
        "id": "f420abac"
      },
      "source": [
        "## Vectorize knowledge base\n",
        "\n",
        "\n",
        "Use a pre-trained sentence transformer model to create embeddings for the knowledge base documents and build a FAISS index for efficient retrieval.\n"
      ]
    },
    {
      "cell_type": "markdown",
      "metadata": {
        "id": "5c9ad9fc"
      },
      "source": [
        "**Reasoning**:\n",
        "Import the necessary libraries for creating embeddings and building the FAISS index, load a sentence transformer model, generate embeddings for the knowledge base documents, determine the embedding dimensionality, create a FAISS index, add the embeddings to the index, and print a confirmation.\n",
        "\n"
      ]
    },
    {
      "cell_type": "code",
      "metadata": {
        "colab": {
          "base_uri": "https://localhost:8080/"
        },
        "id": "5e381c96",
        "outputId": "4435df0f-f8c7-4b20-d606-c2f08dd6a48e"
      },
      "source": [
        "from sentence_transformers import SentenceTransformer\n",
        "from faiss import IndexFlatL2\n",
        "import numpy as np\n",
        "\n",
        "# 2. Load a pre-trained sentence transformer model\n",
        "embedding_model = SentenceTransformer('all-MiniLM-L6-v2')\n",
        "\n",
        "# 3. Generate embeddings for each document\n",
        "document_embeddings = embedding_model.encode(knowledge_base)\n",
        "\n",
        "# 4. Determine the dimensionality of the embeddings\n",
        "embedding_dim = document_embeddings.shape[1]\n",
        "print(f\"Embedding dimensionality: {embedding_dim}\")\n",
        "\n",
        "# 5. Create a FAISS index\n",
        "# Use IndexFlatL2 for L2 distance (Euclidean distance)\n",
        "index = IndexFlatL2(embedding_dim)\n",
        "\n",
        "# 6. Add the generated embeddings to the FAISS index\n",
        "index.add(document_embeddings)\n",
        "\n",
        "# 7. Print a confirmation\n",
        "print(f\"Embeddings created and added to FAISS index. Total vectors in index: {index.ntotal}\")"
      ],
      "execution_count": 44,
      "outputs": [
        {
          "output_type": "stream",
          "name": "stdout",
          "text": [
            "Embedding dimensionality: 384\n",
            "Embeddings created and added to FAISS index. Total vectors in index: 6\n"
          ]
        }
      ]
    },
    {
      "cell_type": "markdown",
      "metadata": {
        "id": "54059a69"
      },
      "source": [
        "## Implement retrieval\n",
        "\n",
        "\n",
        "Create a function to perform a similarity search on the FAISS index given a query and retrieve the most relevant documents.\n"
      ]
    },
    {
      "cell_type": "markdown",
      "metadata": {
        "id": "2d38cb4a"
      },
      "source": [
        "**Reasoning**:\n",
        "Define the `retrieve_documents` function to perform the similarity search using the FAISS index.\n",
        "\n"
      ]
    },
    {
      "cell_type": "code",
      "metadata": {
        "id": "272e137d"
      },
      "source": [
        "def retrieve_documents(query: str, k: int):\n",
        "    \"\"\"\n",
        "    Performs a similarity search on the FAISS index to retrieve relevant documents.\n",
        "\n",
        "    Args:\n",
        "        query: The query string.\n",
        "        k: The number of documents to retrieve.\n",
        "\n",
        "    Returns:\n",
        "        A list of the retrieved documents.\n",
        "    \"\"\"\n",
        "    # Generate embedding for the query\n",
        "    query_embedding = embedding_model.encode([query])\n",
        "\n",
        "    # Perform similarity search\n",
        "    distances, indices = index.search(query_embedding, k)\n",
        "\n",
        "    # Retrieve the documents based on indices\n",
        "    retrieved_docs = [knowledge_base[i] for i in indices[0]]\n",
        "\n",
        "    return retrieved_docs\n"
      ],
      "execution_count": 45,
      "outputs": []
    },
    {
      "cell_type": "markdown",
      "metadata": {
        "id": "d83b0a72"
      },
      "source": [
        "## Implement rag\n",
        "\n",
        "Create a function that combines the retrieved documents with the original query to create a prompt for the LLM.\n"
      ]
    },
    {
      "cell_type": "markdown",
      "metadata": {
        "id": "f8ed72f6"
      },
      "source": [
        "**Reasoning**:\n",
        "Define the function `generate_rag_prompt` that takes the query and retrieved documents, formats them into a prompt string, and returns the prompt.\n",
        "\n"
      ]
    },
    {
      "cell_type": "code",
      "metadata": {
        "id": "f2ff4e68"
      },
      "source": [
        "def generate_rag_prompt(query: str, retrieved_documents: list[str]) -> str:\n",
        "    context = \"\\n\".join(f\"- {doc}\" for doc in retrieved_documents)\n",
        "    return (\n",
        "        \"You are a concise scientific assistant.\\n\"\n",
        "        \"Answer ONLY using facts from the context. \"\n",
        "        \"Do NOT invent numbers. If the context is insufficient, reply: I don't know.\\n\\n\"\n",
        "        f\"Context:\\n{context}\\n\\n\"\n",
        "        f\"Question: {query}\\n\"\n",
        "        \"Answer:\"\n",
        "    )\n"
      ],
      "execution_count": 46,
      "outputs": []
    },
    {
      "cell_type": "code",
      "source": [
        "def ensure_core_facts(docs: list[str], kb: list[str]) -> list[str]:\n",
        "    need = {\n",
        "        \"crys\": \"long-range ordered atomic lattice\",\n",
        "        \"amor\": \"lack long-range order\"\n",
        "    }\n",
        "    have_crys = any(\"long-range ordered\" in d for d in docs)\n",
        "    have_amor = any(\"lack long-range order\" in d for d in docs)\n",
        "\n",
        "    # If missing, pull from KB\n",
        "    if not have_crys:\n",
        "        for d in kb:\n",
        "            if \"long-range ordered atomic lattice\" in d and d not in docs:\n",
        "                docs.append(d); break\n",
        "    if not have_amor:\n",
        "        for d in kb:\n",
        "            if \"lack long-range order\" in d and d not in docs:\n",
        "                docs.append(d); break\n",
        "    return docs\n"
      ],
      "metadata": {
        "id": "mbhph73BYJ_I"
      },
      "execution_count": 47,
      "outputs": []
    },
    {
      "cell_type": "markdown",
      "metadata": {
        "id": "cf863528"
      },
      "source": [
        "## Compare outputs\n",
        "\n",
        "\n",
        "Pose a question relevant to the knowledge base and generate responses using both the base LLM and the RAG-enhanced LLM. Print and compare the outputs.\n"
      ]
    },
    {
      "cell_type": "markdown",
      "metadata": {
        "id": "81aed02a"
      },
      "source": [
        "**Reasoning**:\n",
        "Define the question, generate responses using the base LLM and the RAG-enhanced LLM, and then print and compare the results.\n",
        "\n"
      ]
    },
    {
      "cell_type": "code",
      "metadata": {
        "colab": {
          "base_uri": "https://localhost:8080/"
        },
        "id": "31e7bfbd",
        "outputId": "a9e459ce-f256-4bf9-fe67-6d1e5bd4ae24"
      },
      "source": [
        "import torch\n",
        "\n",
        "def generate_text(prompt: str, max_new_tokens: int = 48) -> str:\n",
        "    inputs = tokenizer(prompt, return_tensors=\"pt\", padding=True, truncation=True).to(device)\n",
        "    with torch.no_grad():\n",
        "        outputs = model.generate(\n",
        "            **inputs,\n",
        "            max_new_tokens=max_new_tokens,\n",
        "            do_sample=False,            # deterministic\n",
        "            num_beams=4,                # focused\n",
        "            no_repeat_ngram_size=3,     # curb loops\n",
        "            repetition_penalty=1.15,\n",
        "            early_stopping=True,\n",
        "            pad_token_id=tokenizer.pad_token_id,\n",
        "            eos_token_id=tokenizer.eos_token_id\n",
        "        )\n",
        "    text = tokenizer.decode(outputs[0], skip_special_tokens=True)\n",
        "    # Keep only the completion after the last \"Answer:\"\n",
        "    if \"Answer:\" in text:\n",
        "        text = text.split(\"Answer:\")[-1].strip()\n",
        "    # Trim to first sentence for cleanliness\n",
        "    if \".\" in text:\n",
        "        text = text.split(\".\")[0].strip() + \".\"\n",
        "    return text\n",
        "\n",
        "question = \"What is the main difference between a crystalline and an amorphous material?\"\n",
        "print(f\"Original Question: {question}\\n\")\n",
        "\n",
        "# --- Base (no context) ---\n",
        "base_prompt = (\n",
        "    \"You are a concise scientific assistant.\\n\"\n",
        "    f\"Question: {question}\\n\"\n",
        "    \"Answer:\"\n",
        ")\n",
        "print(\"--- Base LLM Response ---\")\n",
        "base_response = generate_text(base_prompt, max_new_tokens=40)\n",
        "print(base_response)\n",
        "print(\"-\" * 25 + \"\\n\")\n",
        "\n",
        "# --- Retrieve & ensure core facts ---\n",
        "k = 2\n",
        "retrieved_docs = retrieve_documents(question, k)\n",
        "retrieved_docs = ensure_core_facts(retrieved_docs, knowledge_base)\n",
        "\n",
        "print(f\"--- Retrieved Documents (k~{k}, after ensuring core facts) ---\")\n",
        "for i, doc in enumerate(retrieved_docs, 1):\n",
        "    print(f\"[{i}] {doc}\")\n",
        "print(\"-\" * 25 + \"\\n\")\n",
        "\n",
        "# --- RAG prompt & answer ---\n",
        "rag_prompt = generate_rag_prompt(question, retrieved_docs)\n",
        "print(\"--- Generated RAG Prompt ---\")\n",
        "print(rag_prompt)\n",
        "print(\"-\" * 25 + \"\\n\")\n",
        "\n",
        "print(\"--- RAG-enhanced LLM Response ---\")\n",
        "rag_response = generate_text(rag_prompt, max_new_tokens=48)\n",
        "print(rag_response)\n",
        "print(\"-\" * 25 + \"\\n\")\n",
        "\n",
        "print(\"--- Comparison ---\")\n",
        "print(\"Base: may be generic or partly wrong (no grounding).\")\n",
        "print(\"RAG: should contrast 'long-range ordered lattice' (crystalline) vs 'no long-range order' (amorphous), using only context facts.\")\n",
        "print(\"-\" * 16)\n"
      ],
      "execution_count": 49,
      "outputs": [
        {
          "output_type": "stream",
          "name": "stdout",
          "text": [
            "Original Question: What is the main difference between a crystalline and an amorphous material?\n",
            "\n",
            "--- Base LLM Response ---\n",
            "A crystalline material is a material that is composed of two or more atoms.\n",
            "-------------------------\n",
            "\n",
            "--- Retrieved Documents (k~2, after ensuring core facts) ---\n",
            "[1] Examples of amorphous materials include glass, rubber, and many plastics.\n",
            "[2] Amorphous materials soften gradually over a range of temperatures.\n",
            "[3] Crystalline materials have a long-range ordered atomic lattice.\n",
            "[4] Amorphous materials lack long-range order; atoms are arranged randomly.\n",
            "-------------------------\n",
            "\n",
            "--- Generated RAG Prompt ---\n",
            "You are a concise scientific assistant.\n",
            "Answer ONLY using facts from the context. Do NOT invent numbers. If the context is insufficient, reply: I don't know.\n",
            "\n",
            "Context:\n",
            "- Examples of amorphous materials include glass, rubber, and many plastics.\n",
            "- Amorphous materials soften gradually over a range of temperatures.\n",
            "- Crystalline materials have a long-range ordered atomic lattice.\n",
            "- Amorphous materials lack long-range order; atoms are arranged randomly.\n",
            "\n",
            "Question: What is the main difference between a crystalline and an amorphous material?\n",
            "Answer:\n",
            "-------------------------\n",
            "\n",
            "--- RAG-enhanced LLM Response ---\n",
            "A crystalline material is a material that has a lattice of atoms arranged in such a way that the lattice is symmetrical with respect to each other.\n",
            "-------------------------\n",
            "\n",
            "--- Comparison ---\n",
            "Base: may be generic or partly wrong (no grounding).\n",
            "RAG: should contrast 'long-range ordered lattice' (crystalline) vs 'no long-range order' (amorphous), using only context facts.\n",
            "----------------\n"
          ]
        }
      ]
    },
    {
      "cell_type": "code",
      "source": [],
      "metadata": {
        "id": "tveIFSB9T9Q7"
      },
      "execution_count": null,
      "outputs": []
    }
  ]
}